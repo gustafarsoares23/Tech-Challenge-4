{
  "cells": [
    {
      "cell_type": "markdown",
      "metadata": {
        "id": "view-in-github",
        "colab_type": "text"
      },
      "source": [
        "<a href=\"https://colab.research.google.com/github/gustafarsoares23/Tech-Challenge-4/blob/main/main.ipynb\" target=\"_parent\"><img src=\"https://colab.research.google.com/assets/colab-badge.svg\" alt=\"Open In Colab\"/></a>"
      ]
    },
    {
      "cell_type": "code",
      "source": [
        "pip install streamlit"
      ],
      "metadata": {
        "colab": {
          "base_uri": "https://localhost:8080/"
        },
        "collapsed": true,
        "id": "31XOghwYE0Yy",
        "outputId": "fc776b64-eb46-43d5-9f41-64ff74b7ec20"
      },
      "execution_count": null,
      "outputs": [
        {
          "output_type": "stream",
          "name": "stdout",
          "text": [
            "Requirement already satisfied: streamlit in /usr/local/lib/python3.10/dist-packages (1.34.0)\n",
            "Requirement already satisfied: altair<6,>=4.0 in /usr/local/lib/python3.10/dist-packages (from streamlit) (4.2.2)\n",
            "Requirement already satisfied: blinker<2,>=1.0.0 in /usr/lib/python3/dist-packages (from streamlit) (1.4)\n",
            "Requirement already satisfied: cachetools<6,>=4.0 in /usr/local/lib/python3.10/dist-packages (from streamlit) (5.3.3)\n",
            "Requirement already satisfied: click<9,>=7.0 in /usr/local/lib/python3.10/dist-packages (from streamlit) (8.1.7)\n",
            "Requirement already satisfied: numpy<2,>=1.19.3 in /usr/local/lib/python3.10/dist-packages (from streamlit) (1.25.2)\n",
            "Requirement already satisfied: packaging<25,>=16.8 in /usr/local/lib/python3.10/dist-packages (from streamlit) (24.0)\n",
            "Requirement already satisfied: pandas<3,>=1.3.0 in /usr/local/lib/python3.10/dist-packages (from streamlit) (2.0.3)\n",
            "Requirement already satisfied: pillow<11,>=7.1.0 in /usr/local/lib/python3.10/dist-packages (from streamlit) (9.4.0)\n",
            "Requirement already satisfied: protobuf<5,>=3.20 in /usr/local/lib/python3.10/dist-packages (from streamlit) (3.20.3)\n",
            "Requirement already satisfied: pyarrow>=7.0 in /usr/local/lib/python3.10/dist-packages (from streamlit) (14.0.2)\n",
            "Requirement already satisfied: requests<3,>=2.27 in /usr/local/lib/python3.10/dist-packages (from streamlit) (2.31.0)\n",
            "Requirement already satisfied: rich<14,>=10.14.0 in /usr/local/lib/python3.10/dist-packages (from streamlit) (13.7.1)\n",
            "Requirement already satisfied: tenacity<9,>=8.1.0 in /usr/local/lib/python3.10/dist-packages (from streamlit) (8.3.0)\n",
            "Requirement already satisfied: toml<2,>=0.10.1 in /usr/local/lib/python3.10/dist-packages (from streamlit) (0.10.2)\n",
            "Requirement already satisfied: typing-extensions<5,>=4.3.0 in /usr/local/lib/python3.10/dist-packages (from streamlit) (4.11.0)\n",
            "Requirement already satisfied: gitpython!=3.1.19,<4,>=3.0.7 in /usr/local/lib/python3.10/dist-packages (from streamlit) (3.1.43)\n",
            "Requirement already satisfied: pydeck<1,>=0.8.0b4 in /usr/local/lib/python3.10/dist-packages (from streamlit) (0.9.1)\n",
            "Requirement already satisfied: tornado<7,>=6.0.3 in /usr/local/lib/python3.10/dist-packages (from streamlit) (6.3.3)\n",
            "Requirement already satisfied: watchdog>=2.1.5 in /usr/local/lib/python3.10/dist-packages (from streamlit) (4.0.0)\n",
            "Requirement already satisfied: entrypoints in /usr/local/lib/python3.10/dist-packages (from altair<6,>=4.0->streamlit) (0.4)\n",
            "Requirement already satisfied: jinja2 in /usr/local/lib/python3.10/dist-packages (from altair<6,>=4.0->streamlit) (3.1.4)\n",
            "Requirement already satisfied: jsonschema>=3.0 in /usr/local/lib/python3.10/dist-packages (from altair<6,>=4.0->streamlit) (4.19.2)\n",
            "Requirement already satisfied: toolz in /usr/local/lib/python3.10/dist-packages (from altair<6,>=4.0->streamlit) (0.12.1)\n",
            "Requirement already satisfied: gitdb<5,>=4.0.1 in /usr/local/lib/python3.10/dist-packages (from gitpython!=3.1.19,<4,>=3.0.7->streamlit) (4.0.11)\n",
            "Requirement already satisfied: python-dateutil>=2.8.2 in /usr/local/lib/python3.10/dist-packages (from pandas<3,>=1.3.0->streamlit) (2.8.2)\n",
            "Requirement already satisfied: pytz>=2020.1 in /usr/local/lib/python3.10/dist-packages (from pandas<3,>=1.3.0->streamlit) (2023.4)\n",
            "Requirement already satisfied: tzdata>=2022.1 in /usr/local/lib/python3.10/dist-packages (from pandas<3,>=1.3.0->streamlit) (2024.1)\n",
            "Requirement already satisfied: charset-normalizer<4,>=2 in /usr/local/lib/python3.10/dist-packages (from requests<3,>=2.27->streamlit) (3.3.2)\n",
            "Requirement already satisfied: idna<4,>=2.5 in /usr/local/lib/python3.10/dist-packages (from requests<3,>=2.27->streamlit) (3.7)\n",
            "Requirement already satisfied: urllib3<3,>=1.21.1 in /usr/local/lib/python3.10/dist-packages (from requests<3,>=2.27->streamlit) (2.0.7)\n",
            "Requirement already satisfied: certifi>=2017.4.17 in /usr/local/lib/python3.10/dist-packages (from requests<3,>=2.27->streamlit) (2024.2.2)\n",
            "Requirement already satisfied: markdown-it-py>=2.2.0 in /usr/local/lib/python3.10/dist-packages (from rich<14,>=10.14.0->streamlit) (3.0.0)\n",
            "Requirement already satisfied: pygments<3.0.0,>=2.13.0 in /usr/local/lib/python3.10/dist-packages (from rich<14,>=10.14.0->streamlit) (2.16.1)\n",
            "Requirement already satisfied: smmap<6,>=3.0.1 in /usr/local/lib/python3.10/dist-packages (from gitdb<5,>=4.0.1->gitpython!=3.1.19,<4,>=3.0.7->streamlit) (5.0.1)\n",
            "Requirement already satisfied: MarkupSafe>=2.0 in /usr/local/lib/python3.10/dist-packages (from jinja2->altair<6,>=4.0->streamlit) (2.1.5)\n",
            "Requirement already satisfied: attrs>=22.2.0 in /usr/local/lib/python3.10/dist-packages (from jsonschema>=3.0->altair<6,>=4.0->streamlit) (23.2.0)\n",
            "Requirement already satisfied: jsonschema-specifications>=2023.03.6 in /usr/local/lib/python3.10/dist-packages (from jsonschema>=3.0->altair<6,>=4.0->streamlit) (2023.12.1)\n",
            "Requirement already satisfied: referencing>=0.28.4 in /usr/local/lib/python3.10/dist-packages (from jsonschema>=3.0->altair<6,>=4.0->streamlit) (0.35.1)\n",
            "Requirement already satisfied: rpds-py>=0.7.1 in /usr/local/lib/python3.10/dist-packages (from jsonschema>=3.0->altair<6,>=4.0->streamlit) (0.18.1)\n",
            "Requirement already satisfied: mdurl~=0.1 in /usr/local/lib/python3.10/dist-packages (from markdown-it-py>=2.2.0->rich<14,>=10.14.0->streamlit) (0.1.2)\n",
            "Requirement already satisfied: six>=1.5 in /usr/local/lib/python3.10/dist-packages (from python-dateutil>=2.8.2->pandas<3,>=1.3.0->streamlit) (1.16.0)\n"
          ]
        }
      ]
    },
    {
      "cell_type": "code",
      "source": [
        "%%writefile app.py\n",
        "import streamlit as st\n",
        "import pandas as pd\n",
        "import numpy as np\n",
        "import matplotlib.pyplot as plt\n",
        "import subprocess\n",
        "import urllib.request\n",
        "import requests\n",
        "from PIL import Image\n",
        "from io import BytesIO\n",
        "\n",
        "st.title('Variação do Preço por Barril do Petróleo Bruto Brent (FOB)')\n",
        "# st.write('# Dados')\n",
        "\n",
        "opcoes_abas = ['Explicação Tech Challenge 4', 'Projeto Final']\n",
        "aba_selecionada = st.sidebar.selectbox('Escolha uma aba', opcoes_abas)\n",
        "\n",
        "if aba_selecionada == 'Explicação Tech Challenge 4':\n",
        "    st.write('# Explicação Tech Challenge 4')\n",
        "    paragraphs = [\n",
        "        \"Você foi contratado(a) para uma consultoria, e seu trabalho envolve analisar os dados de preço do petróleo Brent, que pode ser encontrado no site do Ipea.\",\n",
        "        \"Essa base de dados histórica envolve duas colunas: data e preço (em dólares).\",\n",
        "        \"Um grande cliente do segmento pediu para que a consultoria desenvolvesse um dashboard interativo e que gere insights relevantes para tomada de decisão.\",\n",
        "        \"Além disso, solicitaram que fosse desenvolvido um modelo de Machine Learning para fazer o forecasting do preço do petróleo e um modelo de Deploy (nesse caso estarei usando o Streamlit).\",\n",
        "        \"\",\n",
        "        \"Dentro do Streamlit há duas abas: a primeira explicando o Tech Challenge e a segunda com os Dados do Projeto\",\n",
        "        \"\",\n",
        "    ]\n",
        "\n",
        "    for paragraph in paragraphs:\n",
        "        st.write(paragraph)\n",
        "    st.write('Clique [aqui](http://www.ipeadata.gov.br/ExibeSerie.aspx?module=m&serid=1650971490&oper=view) para acessar os dados do IPEA')\n",
        "    st.write('Clique [aqui](https://www.youtube.com/watch?v=lsGS1SKqSrY)')\n",
        "    st.write(\"Clique [aqui](https://github.com/gustafarsoares23/Tech-Challenge-4/tree/main) e acesse todo o conteúdo do trabalho no GitHub\")\n",
        "\n",
        "elif aba_selecionada == 'Projeto Final':\n",
        "    st.write('# Projeto Final')\n",
        "\n",
        "    st.write('## Preço do Petróleo')\n",
        "    paragraphs = [\n",
        "        \"Análise da Flutuação do Preço do Petróleo ao Longo do Tempo.\",\n",
        "        \"Este estudo examina a dinâmica do preço do petróleo em diferentes períodos. É possível ajustar as datas de referência e observar a tabela e o gráfico correspondentes à variação do preço conforme a data selecionada.\"\n",
        "    ]\n",
        "\n",
        "    for paragraph in paragraphs:\n",
        "        st.write(paragraph)\n",
        "\n",
        "    # Carregar o arquivo Excel usando pandas\n",
        "    df = pd.read_csv(\"https://raw.githubusercontent.com/gustafarsoares23/Tech-Challenge-4/main/base_preco_petroleo.csv\", sep=';', encoding='latin1')\n",
        "\n",
        "    # Exibir os dados no Streamlit\n",
        "\n",
        "    data_inicial_padrao = pd.to_datetime('1987-05-20').date()\n",
        "    data_final_padrao = pd.to_datetime('2024-05-13').date()\n",
        "\n",
        "    data_inicial = st.date_input(\"Data Inicial\", value=data_inicial_padrao, min_value=data_inicial_padrao)\n",
        "    data_final = st.date_input(\"Data Final\", value=data_final_padrao, max_value=pd.to_datetime('2024-05-13').date())\n",
        "\n",
        "    # Modificando o Nome das Colunas\n",
        "    df.rename(columns={'Data': 'data', 'Preço do Petróleo': 'preco'}, inplace=True)\n",
        "    df['preco'] = df['preco'].str.replace(',', '.')\n",
        "    df['preco'] = df['preco'].astype(float)\n",
        "    df['data'] = pd.to_datetime(df['data']).dt.date\n",
        "\n",
        "    df_filtrado = df[(df['data'] >= data_inicial) & (df['data'] <= data_final)]\n",
        "\n",
        "    st.write(df_filtrado)\n",
        "\n",
        "    x = df_filtrado['data']\n",
        "    y = df_filtrado['preco']\n",
        "\n",
        "    plt.plot(df_filtrado['data'], df_filtrado['preco'], marker='o')\n",
        "    plt.xlabel('Data')\n",
        "    plt.ylabel('Preço')\n",
        "    plt.title('Preço ao longo dos anos')\n",
        "    # plt.show()  # Removido porque st.pyplot será usado\n",
        "\n",
        "    st.pyplot(plt)\n",
        "\n",
        "    st.markdown(\"<hr>\", unsafe_allow_html=True)\n",
        "\n",
        "    st.write('## Prevendo o valor do barril de Petróleo com Prophet')\n",
        "    paragraphs = [\n",
        "        \"Para prever os valores do barril do Petróleo dos próximos 30 dias eu estudei alguns modelos tradicionais de Machine Learning, como Média Móvel, Arima e também um modelo robusto, o Prophet.\",\n",
        "        \"A melhor previsão, entre eles, foi do Prophet, com um MAPE de 15%.\",\n",
        "        \"Mas não satisfeito com a previsão, eu estudei mais sobre as flutuações de preço do petróleo e percebi que, em várias datas, e por um período curto de tempo, o preço aumentou ou diminuiu abruptamente, por questões climáticas ou geopolíticas.\",\n",
        "        \"Acontece que, essas variações grandes, mas de períodos curtos, interferem muito no modelo de previsão.\",\n",
        "        \"Então eu resolvi, ao invés de usar dados desde 1987, usar apenas dados de 2023 e 2024 para previsão do modelo.\",\n",
        "        \"Logo, consegui um modelo Prophet Melhor, com MAPE 3%, conforme gráficos abaixo:\"\n",
        "    ]\n",
        "\n",
        "    for paragraph in paragraphs:\n",
        "        st.write(paragraph, format='markdown')\n",
        "\n",
        "    url_predicao = \"https://github.com/gustafarsoares23/Tech-Challenge-4/raw/main/Prophet_previsao_2023_2024.png\"\n",
        "    st.image(url_predicao, use_column_width=True, caption=\"Gráfico de Predição\")\n",
        "\n",
        "    st.write('Fonte: Código Python disponível no Github')\n",
        "    st.write('Clique [aqui](https://github.com/gustafarsoares23/Tech-Challenge-4/blob/main/Tech_Challenge_4_Machine_Learning_Pre%C3%A7o_do_Petr%C3%B3leo.ipynb)')\n",
        "\n",
        "    st.markdown(\"<hr>\", unsafe_allow_html=True)\n",
        "\n",
        "    st.write('<hr>', unsafe_allow_html=True)\n",
        "    st.write('### Tabela com as previsões dos próximos 30 dias')\n",
        "\n",
        "    paragraphs = [\n",
        "        'Na tabela abaixo, você pode ver a previsão dos valores para os próximos 30 dias:'\n",
        "    ]\n",
        "\n",
        "    for paragraph in paragraphs:\n",
        "        st.write(paragraph, format='markdown')\n",
        "\n",
        "    url_tabelapredicao = 'https://github.com/gustafarsoares23/Tech-Challenge-4/raw/main/tabela%20previs%C3%A3o.png'\n",
        "    st.image(url_tabelapredicao, use_column_width=True, caption='Tabela com Predição dos Valores')\n",
        "\n",
        "    st.markdown(\"<hr>\", unsafe_allow_html=True)\n",
        "\n",
        "    st.write('## Dashboard Power Bi')\n",
        "    paragraphs = [\n",
        "        'O Dashboard abaixo mostra as variações do preço do petróleo ao longo dos anos e também explica as variações.',\n",
        "        'Para acessar todos os recursos, recomendo clicar no link e baixar o arquivo do Power Bi.'\n",
        "    ]\n",
        "\n",
        "    for paragraph in paragraphs:\n",
        "        st.write(paragraph)\n",
        "\n",
        "    img_url = \"https://raw.githubusercontent.com/gustafarsoares23/Tech-Challenge-4/main/Dashboard_Power%20BI.png\"\n",
        "\n",
        "    st.image(img_url, use_column_width=True, caption=\"Foto do Dashboard Power Bi\")\n",
        "\n",
        "    st.write('Clique [aqui](https://github.com/gustafarsoares23/Tech-Challenge-4/blob/main/An%C3%A1lise%20Pre%C3%A7o%20do%20Petr%C3%B3leo.pbix) para abrir o arquivo Power BI no Github')\n",
        "\n",
        "    st.markdown(\"<hr>\", unsafe_allow_html=True)\n",
        "\n",
        "image_url = 'https://raw.githubusercontent.com/gustafarsoares23/Tech-Challenge-4/main/foto%20capa.jpg'\n",
        "\n",
        "response = requests.get(image_url)\n",
        "image = Image.open(BytesIO(response.content))\n",
        "\n",
        "st.image(image,\n",
        "         width=85,\n",
        "         output_format='PNG',\n",
        "         use_column_width=True,\n",
        ")\n",
        "\n",
        "st.markdown('<p class=\"footer\"> Tech Challenge 4 - Gustavo Silveira Soares - Grupo 90</p)', unsafe_allow_html=True)"
      ],
      "metadata": {
        "colab": {
          "base_uri": "https://localhost:8080/"
        },
        "id": "qUpAHVJqE0Ub",
        "outputId": "581e18c1-50b4-4160-8e53-cf424e52a8e1"
      },
      "execution_count": null,
      "outputs": [
        {
          "output_type": "stream",
          "name": "stdout",
          "text": [
            "Overwriting app.py\n"
          ]
        }
      ]
    },
    {
      "cell_type": "code",
      "source": [
        "! wget -q -O - ipv4.icanhazip.com"
      ],
      "metadata": {
        "colab": {
          "base_uri": "https://localhost:8080/"
        },
        "id": "0Qt_OjPbE0SD",
        "outputId": "32985b3e-d963-4d0e-ca39-c68bb2622198"
      },
      "execution_count": null,
      "outputs": [
        {
          "output_type": "stream",
          "name": "stdout",
          "text": [
            "34.106.153.104\n"
          ]
        }
      ]
    },
    {
      "cell_type": "code",
      "source": [
        "! streamlit run app.py & npx localtunnel --port 8501"
      ],
      "metadata": {
        "colab": {
          "base_uri": "https://localhost:8080/"
        },
        "id": "ED48_ESdE0Ph",
        "outputId": "9c9946f3-3958-4882-b30c-0164b6b48f78"
      },
      "execution_count": null,
      "outputs": [
        {
          "output_type": "stream",
          "name": "stdout",
          "text": [
            "\n",
            "Collecting usage statistics. To deactivate, set browser.gatherUsageStats to false.\n",
            "\u001b[0m\n",
            "\u001b[0m\n",
            "\u001b[34m\u001b[1m  You can now view your Streamlit app in your browser.\u001b[0m\n",
            "\u001b[0m\n",
            "\u001b[34m  Network URL: \u001b[0m\u001b[1mhttp://172.28.0.12:8501\u001b[0m\n",
            "\u001b[34m  External URL: \u001b[0m\u001b[1mhttp://34.106.153.104:8501\u001b[0m\n",
            "\u001b[0m\n",
            "\u001b[K\u001b[?25hnpx: installed 22 in 1.87s\n",
            "your url is: https://chubby-melons-deny.loca.lt\n",
            "/content/app.py:62: UserWarning: Parsing dates in %d/%m/%Y format when dayfirst=False (the default) was specified. Pass `dayfirst=True` or specify a format to silence this warning.\n",
            "  df['data'] = pd.to_datetime(df['data']).dt.date\n",
            "2024-05-19 04:43:07.968 Invalid arguments were passed to \"st.write\" function. Support for passing such unknown keywords arguments will be dropped in future. Invalid arguments were: {'format': 'markdown'}\n",
            "2024-05-19 04:43:07.969 Invalid arguments were passed to \"st.write\" function. Support for passing such unknown keywords arguments will be dropped in future. Invalid arguments were: {'format': 'markdown'}\n",
            "2024-05-19 04:43:07.970 Invalid arguments were passed to \"st.write\" function. Support for passing such unknown keywords arguments will be dropped in future. Invalid arguments were: {'format': 'markdown'}\n",
            "2024-05-19 04:43:07.970 Invalid arguments were passed to \"st.write\" function. Support for passing such unknown keywords arguments will be dropped in future. Invalid arguments were: {'format': 'markdown'}\n",
            "2024-05-19 04:43:07.971 Invalid arguments were passed to \"st.write\" function. Support for passing such unknown keywords arguments will be dropped in future. Invalid arguments were: {'format': 'markdown'}\n",
            "2024-05-19 04:43:07.972 Invalid arguments were passed to \"st.write\" function. Support for passing such unknown keywords arguments will be dropped in future. Invalid arguments were: {'format': 'markdown'}\n",
            "2024-05-19 04:43:07.975 Invalid arguments were passed to \"st.write\" function. Support for passing such unknown keywords arguments will be dropped in future. Invalid arguments were: {'format': 'markdown'}\n",
            "/content/app.py:62: UserWarning: Parsing dates in %d/%m/%Y format when dayfirst=False (the default) was specified. Pass `dayfirst=True` or specify a format to silence this warning.\n",
            "  df['data'] = pd.to_datetime(df['data']).dt.date\n",
            "2024-05-19 04:43:24.471 Invalid arguments were passed to \"st.write\" function. Support for passing such unknown keywords arguments will be dropped in future. Invalid arguments were: {'format': 'markdown'}\n",
            "2024-05-19 04:43:24.474 Invalid arguments were passed to \"st.write\" function. Support for passing such unknown keywords arguments will be dropped in future. Invalid arguments were: {'format': 'markdown'}\n",
            "2024-05-19 04:43:24.475 Invalid arguments were passed to \"st.write\" function. Support for passing such unknown keywords arguments will be dropped in future. Invalid arguments were: {'format': 'markdown'}\n",
            "2024-05-19 04:43:24.476 Invalid arguments were passed to \"st.write\" function. Support for passing such unknown keywords arguments will be dropped in future. Invalid arguments were: {'format': 'markdown'}\n",
            "2024-05-19 04:43:24.477 Invalid arguments were passed to \"st.write\" function. Support for passing such unknown keywords arguments will be dropped in future. Invalid arguments were: {'format': 'markdown'}\n",
            "2024-05-19 04:43:24.478 Invalid arguments were passed to \"st.write\" function. Support for passing such unknown keywords arguments will be dropped in future. Invalid arguments were: {'format': 'markdown'}\n",
            "2024-05-19 04:43:24.488 Invalid arguments were passed to \"st.write\" function. Support for passing such unknown keywords arguments will be dropped in future. Invalid arguments were: {'format': 'markdown'}\n",
            "/content/app.py:62: UserWarning: Parsing dates in %d/%m/%Y format when dayfirst=False (the default) was specified. Pass `dayfirst=True` or specify a format to silence this warning.\n",
            "  df['data'] = pd.to_datetime(df['data']).dt.date\n",
            "2024-05-19 04:47:11.646 Invalid arguments were passed to \"st.write\" function. Support for passing such unknown keywords arguments will be dropped in future. Invalid arguments were: {'format': 'markdown'}\n",
            "2024-05-19 04:47:11.647 Invalid arguments were passed to \"st.write\" function. Support for passing such unknown keywords arguments will be dropped in future. Invalid arguments were: {'format': 'markdown'}\n",
            "2024-05-19 04:47:11.648 Invalid arguments were passed to \"st.write\" function. Support for passing such unknown keywords arguments will be dropped in future. Invalid arguments were: {'format': 'markdown'}\n",
            "2024-05-19 04:47:11.649 Invalid arguments were passed to \"st.write\" function. Support for passing such unknown keywords arguments will be dropped in future. Invalid arguments were: {'format': 'markdown'}\n",
            "2024-05-19 04:47:11.650 Invalid arguments were passed to \"st.write\" function. Support for passing such unknown keywords arguments will be dropped in future. Invalid arguments were: {'format': 'markdown'}\n",
            "2024-05-19 04:47:11.651 Invalid arguments were passed to \"st.write\" function. Support for passing such unknown keywords arguments will be dropped in future. Invalid arguments were: {'format': 'markdown'}\n",
            "2024-05-19 04:47:11.658 Invalid arguments were passed to \"st.write\" function. Support for passing such unknown keywords arguments will be dropped in future. Invalid arguments were: {'format': 'markdown'}\n"
          ]
        }
      ]
    }
  ],
  "metadata": {
    "colab": {
      "provenance": [],
      "authorship_tag": "ABX9TyPblUZXWA50LpM86ddCBsXS",
      "include_colab_link": true
    },
    "kernelspec": {
      "display_name": "Python 3",
      "name": "python3"
    },
    "language_info": {
      "name": "python"
    }
  },
  "nbformat": 4,
  "nbformat_minor": 0
}