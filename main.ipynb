{
  "nbformat": 4,
  "nbformat_minor": 0,
  "metadata": {
    "colab": {
      "provenance": [],
      "authorship_tag": "ABX9TyOfrXj4gAzZL4xUm7CXDFfW",
      "include_colab_link": true
    },
    "kernelspec": {
      "name": "python3",
      "display_name": "Python 3"
    },
    "language_info": {
      "name": "python"
    }
  },
  "cells": [
    {
      "cell_type": "markdown",
      "metadata": {
        "id": "view-in-github",
        "colab_type": "text"
      },
      "source": [
        "<a href=\"https://colab.research.google.com/github/gustafarsoares23/Tech-Challenge-4/blob/main/main.ipynb\" target=\"_parent\"><img src=\"https://colab.research.google.com/assets/colab-badge.svg\" alt=\"Open In Colab\"/></a>"
      ]
    },
    {
      "cell_type": "code",
      "source": [
        "pip install streamlit"
      ],
      "metadata": {
        "colab": {
          "base_uri": "https://localhost:8080/"
        },
        "id": "RZ8j3uQ-3ZPZ",
        "outputId": "083e5c7e-167a-4f59-990e-a8061cd1a5e5"
      },
      "execution_count": 23,
      "outputs": [
        {
          "output_type": "stream",
          "name": "stdout",
          "text": [
            "Requirement already satisfied: streamlit in /usr/local/lib/python3.10/dist-packages (1.34.0)\n",
            "Requirement already satisfied: altair<6,>=4.0 in /usr/local/lib/python3.10/dist-packages (from streamlit) (4.2.2)\n",
            "Requirement already satisfied: blinker<2,>=1.0.0 in /usr/lib/python3/dist-packages (from streamlit) (1.4)\n",
            "Requirement already satisfied: cachetools<6,>=4.0 in /usr/local/lib/python3.10/dist-packages (from streamlit) (5.3.3)\n",
            "Requirement already satisfied: click<9,>=7.0 in /usr/local/lib/python3.10/dist-packages (from streamlit) (8.1.7)\n",
            "Requirement already satisfied: numpy<2,>=1.19.3 in /usr/local/lib/python3.10/dist-packages (from streamlit) (1.25.2)\n",
            "Requirement already satisfied: packaging<25,>=16.8 in /usr/local/lib/python3.10/dist-packages (from streamlit) (24.0)\n",
            "Requirement already satisfied: pandas<3,>=1.3.0 in /usr/local/lib/python3.10/dist-packages (from streamlit) (2.0.3)\n",
            "Requirement already satisfied: pillow<11,>=7.1.0 in /usr/local/lib/python3.10/dist-packages (from streamlit) (9.4.0)\n",
            "Requirement already satisfied: protobuf<5,>=3.20 in /usr/local/lib/python3.10/dist-packages (from streamlit) (3.20.3)\n",
            "Requirement already satisfied: pyarrow>=7.0 in /usr/local/lib/python3.10/dist-packages (from streamlit) (14.0.2)\n",
            "Requirement already satisfied: requests<3,>=2.27 in /usr/local/lib/python3.10/dist-packages (from streamlit) (2.31.0)\n",
            "Requirement already satisfied: rich<14,>=10.14.0 in /usr/local/lib/python3.10/dist-packages (from streamlit) (13.7.1)\n",
            "Requirement already satisfied: tenacity<9,>=8.1.0 in /usr/local/lib/python3.10/dist-packages (from streamlit) (8.3.0)\n",
            "Requirement already satisfied: toml<2,>=0.10.1 in /usr/local/lib/python3.10/dist-packages (from streamlit) (0.10.2)\n",
            "Requirement already satisfied: typing-extensions<5,>=4.3.0 in /usr/local/lib/python3.10/dist-packages (from streamlit) (4.11.0)\n",
            "Requirement already satisfied: gitpython!=3.1.19,<4,>=3.0.7 in /usr/local/lib/python3.10/dist-packages (from streamlit) (3.1.43)\n",
            "Requirement already satisfied: pydeck<1,>=0.8.0b4 in /usr/local/lib/python3.10/dist-packages (from streamlit) (0.9.1)\n",
            "Requirement already satisfied: tornado<7,>=6.0.3 in /usr/local/lib/python3.10/dist-packages (from streamlit) (6.3.3)\n",
            "Requirement already satisfied: watchdog>=2.1.5 in /usr/local/lib/python3.10/dist-packages (from streamlit) (4.0.0)\n",
            "Requirement already satisfied: entrypoints in /usr/local/lib/python3.10/dist-packages (from altair<6,>=4.0->streamlit) (0.4)\n",
            "Requirement already satisfied: jinja2 in /usr/local/lib/python3.10/dist-packages (from altair<6,>=4.0->streamlit) (3.1.4)\n",
            "Requirement already satisfied: jsonschema>=3.0 in /usr/local/lib/python3.10/dist-packages (from altair<6,>=4.0->streamlit) (4.19.2)\n",
            "Requirement already satisfied: toolz in /usr/local/lib/python3.10/dist-packages (from altair<6,>=4.0->streamlit) (0.12.1)\n",
            "Requirement already satisfied: gitdb<5,>=4.0.1 in /usr/local/lib/python3.10/dist-packages (from gitpython!=3.1.19,<4,>=3.0.7->streamlit) (4.0.11)\n",
            "Requirement already satisfied: python-dateutil>=2.8.2 in /usr/local/lib/python3.10/dist-packages (from pandas<3,>=1.3.0->streamlit) (2.8.2)\n",
            "Requirement already satisfied: pytz>=2020.1 in /usr/local/lib/python3.10/dist-packages (from pandas<3,>=1.3.0->streamlit) (2023.4)\n",
            "Requirement already satisfied: tzdata>=2022.1 in /usr/local/lib/python3.10/dist-packages (from pandas<3,>=1.3.0->streamlit) (2024.1)\n",
            "Requirement already satisfied: charset-normalizer<4,>=2 in /usr/local/lib/python3.10/dist-packages (from requests<3,>=2.27->streamlit) (3.3.2)\n",
            "Requirement already satisfied: idna<4,>=2.5 in /usr/local/lib/python3.10/dist-packages (from requests<3,>=2.27->streamlit) (3.7)\n",
            "Requirement already satisfied: urllib3<3,>=1.21.1 in /usr/local/lib/python3.10/dist-packages (from requests<3,>=2.27->streamlit) (2.0.7)\n",
            "Requirement already satisfied: certifi>=2017.4.17 in /usr/local/lib/python3.10/dist-packages (from requests<3,>=2.27->streamlit) (2024.2.2)\n",
            "Requirement already satisfied: markdown-it-py>=2.2.0 in /usr/local/lib/python3.10/dist-packages (from rich<14,>=10.14.0->streamlit) (3.0.0)\n",
            "Requirement already satisfied: pygments<3.0.0,>=2.13.0 in /usr/local/lib/python3.10/dist-packages (from rich<14,>=10.14.0->streamlit) (2.16.1)\n",
            "Requirement already satisfied: smmap<6,>=3.0.1 in /usr/local/lib/python3.10/dist-packages (from gitdb<5,>=4.0.1->gitpython!=3.1.19,<4,>=3.0.7->streamlit) (5.0.1)\n",
            "Requirement already satisfied: MarkupSafe>=2.0 in /usr/local/lib/python3.10/dist-packages (from jinja2->altair<6,>=4.0->streamlit) (2.1.5)\n",
            "Requirement already satisfied: attrs>=22.2.0 in /usr/local/lib/python3.10/dist-packages (from jsonschema>=3.0->altair<6,>=4.0->streamlit) (23.2.0)\n",
            "Requirement already satisfied: jsonschema-specifications>=2023.03.6 in /usr/local/lib/python3.10/dist-packages (from jsonschema>=3.0->altair<6,>=4.0->streamlit) (2023.12.1)\n",
            "Requirement already satisfied: referencing>=0.28.4 in /usr/local/lib/python3.10/dist-packages (from jsonschema>=3.0->altair<6,>=4.0->streamlit) (0.35.1)\n",
            "Requirement already satisfied: rpds-py>=0.7.1 in /usr/local/lib/python3.10/dist-packages (from jsonschema>=3.0->altair<6,>=4.0->streamlit) (0.18.1)\n",
            "Requirement already satisfied: mdurl~=0.1 in /usr/local/lib/python3.10/dist-packages (from markdown-it-py>=2.2.0->rich<14,>=10.14.0->streamlit) (0.1.2)\n",
            "Requirement already satisfied: six>=1.5 in /usr/local/lib/python3.10/dist-packages (from python-dateutil>=2.8.2->pandas<3,>=1.3.0->streamlit) (1.16.0)\n"
          ]
        }
      ]
    },
    {
      "cell_type": "code",
      "source": [
        "%%writefile app.py"
      ],
      "metadata": {
        "colab": {
          "base_uri": "https://localhost:8080/"
        },
        "id": "uWdXvKwpes6A",
        "outputId": "13c3ed0b-2370-4ee5-e273-1424fe31b88c"
      },
      "execution_count": 24,
      "outputs": [
        {
          "output_type": "stream",
          "name": "stdout",
          "text": [
            "Overwriting app.py\n"
          ]
        }
      ]
    },
    {
      "cell_type": "code",
      "source": [
        "! wget -q -O - ipv4.icanhazip.com"
      ],
      "metadata": {
        "id": "M5IdliefYLE-",
        "colab": {
          "base_uri": "https://localhost:8080/"
        },
        "outputId": "c59ac5f0-d2bf-4817-8695-7f271bba3a16"
      },
      "execution_count": 25,
      "outputs": [
        {
          "output_type": "stream",
          "name": "stdout",
          "text": [
            "34.74.101.205\n"
          ]
        }
      ]
    },
    {
      "cell_type": "code",
      "source": [
        "! streamlit run app.py & npx localtunnel --port 8501"
      ],
      "metadata": {
        "colab": {
          "base_uri": "https://localhost:8080/"
        },
        "id": "fDfzc1R62qtZ",
        "outputId": "12a827d5-1f6c-42ed-b841-f1023a5cae08"
      },
      "execution_count": null,
      "outputs": [
        {
          "output_type": "stream",
          "name": "stdout",
          "text": [
            "\n",
            "Collecting usage statistics. To deactivate, set browser.gatherUsageStats to false.\n",
            "\u001b[0m\n",
            "\u001b[0m\n",
            "\u001b[34m\u001b[1m  You can now view your Streamlit app in your browser.\u001b[0m\n",
            "\u001b[0m\n",
            "\u001b[34m  Network URL: \u001b[0m\u001b[1mhttp://172.28.0.12:8501\u001b[0m\n",
            "\u001b[34m  External URL: \u001b[0m\u001b[1mhttp://34.74.101.205:8501\u001b[0m\n",
            "\u001b[0m\n",
            "\u001b[K\u001b[?25hnpx: installed 22 in 3.193s\n",
            "your url is: https://swift-snakes-brush.loca.lt\n",
            "/content/app.py:60: UserWarning: Parsing dates in %d/%m/%Y format when dayfirst=False (the default) was specified. Pass `dayfirst=True` or specify a format to silence this warning.\n",
            "  df['data'] = pd.to_datetime(df['data']).dt.date\n",
            "2024-05-18 22:52:45.107 Invalid arguments were passed to \"st.write\" function. Support for passing such unknown keywords arguments will be dropped in future. Invalid arguments were: {'format': 'markdown'}\n",
            "2024-05-18 22:52:45.108 Invalid arguments were passed to \"st.write\" function. Support for passing such unknown keywords arguments will be dropped in future. Invalid arguments were: {'format': 'markdown'}\n",
            "2024-05-18 22:52:45.109 Invalid arguments were passed to \"st.write\" function. Support for passing such unknown keywords arguments will be dropped in future. Invalid arguments were: {'format': 'markdown'}\n",
            "2024-05-18 22:52:45.110 Invalid arguments were passed to \"st.write\" function. Support for passing such unknown keywords arguments will be dropped in future. Invalid arguments were: {'format': 'markdown'}\n",
            "2024-05-18 22:52:45.110 Invalid arguments were passed to \"st.write\" function. Support for passing such unknown keywords arguments will be dropped in future. Invalid arguments were: {'format': 'markdown'}\n",
            "2024-05-18 22:52:45.111 Invalid arguments were passed to \"st.write\" function. Support for passing such unknown keywords arguments will be dropped in future. Invalid arguments were: {'format': 'markdown'}\n",
            "2024-05-18 22:52:45.112 Invalid arguments were passed to \"st.write\" function. Support for passing such unknown keywords arguments will be dropped in future. Invalid arguments were: {'format': 'markdown'}\n",
            "2024-05-18 22:52:45.115 Invalid arguments were passed to \"st.write\" function. Support for passing such unknown keywords arguments will be dropped in future. Invalid arguments were: {'format': 'markdown'}\n",
            "/content/app.py:60: UserWarning: Parsing dates in %d/%m/%Y format when dayfirst=False (the default) was specified. Pass `dayfirst=True` or specify a format to silence this warning.\n",
            "  df['data'] = pd.to_datetime(df['data']).dt.date\n",
            "2024-05-18 22:57:22.062 Invalid arguments were passed to \"st.write\" function. Support for passing such unknown keywords arguments will be dropped in future. Invalid arguments were: {'format': 'markdown'}\n",
            "2024-05-18 22:57:22.063 Invalid arguments were passed to \"st.write\" function. Support for passing such unknown keywords arguments will be dropped in future. Invalid arguments were: {'format': 'markdown'}\n",
            "2024-05-18 22:57:22.064 Invalid arguments were passed to \"st.write\" function. Support for passing such unknown keywords arguments will be dropped in future. Invalid arguments were: {'format': 'markdown'}\n",
            "2024-05-18 22:57:22.065 Invalid arguments were passed to \"st.write\" function. Support for passing such unknown keywords arguments will be dropped in future. Invalid arguments were: {'format': 'markdown'}\n",
            "2024-05-18 22:57:22.065 Invalid arguments were passed to \"st.write\" function. Support for passing such unknown keywords arguments will be dropped in future. Invalid arguments were: {'format': 'markdown'}\n",
            "2024-05-18 22:57:22.066 Invalid arguments were passed to \"st.write\" function. Support for passing such unknown keywords arguments will be dropped in future. Invalid arguments were: {'format': 'markdown'}\n",
            "2024-05-18 22:57:22.067 Invalid arguments were passed to \"st.write\" function. Support for passing such unknown keywords arguments will be dropped in future. Invalid arguments were: {'format': 'markdown'}\n",
            "2024-05-18 22:57:22.070 Invalid arguments were passed to \"st.write\" function. Support for passing such unknown keywords arguments will be dropped in future. Invalid arguments were: {'format': 'markdown'}\n",
            "/content/app.py:60: UserWarning: Parsing dates in %d/%m/%Y format when dayfirst=False (the default) was specified. Pass `dayfirst=True` or specify a format to silence this warning.\n",
            "  df['data'] = pd.to_datetime(df['data']).dt.date\n",
            "2024-05-18 22:58:24.702 Invalid arguments were passed to \"st.write\" function. Support for passing such unknown keywords arguments will be dropped in future. Invalid arguments were: {'format': 'markdown'}\n",
            "2024-05-18 22:58:24.703 Invalid arguments were passed to \"st.write\" function. Support for passing such unknown keywords arguments will be dropped in future. Invalid arguments were: {'format': 'markdown'}\n",
            "2024-05-18 22:58:24.704 Invalid arguments were passed to \"st.write\" function. Support for passing such unknown keywords arguments will be dropped in future. Invalid arguments were: {'format': 'markdown'}\n",
            "2024-05-18 22:58:24.708 Invalid arguments were passed to \"st.write\" function. Support for passing such unknown keywords arguments will be dropped in future. Invalid arguments were: {'format': 'markdown'}\n",
            "2024-05-18 22:58:24.709 Invalid arguments were passed to \"st.write\" function. Support for passing such unknown keywords arguments will be dropped in future. Invalid arguments were: {'format': 'markdown'}\n",
            "2024-05-18 22:58:24.710 Invalid arguments were passed to \"st.write\" function. Support for passing such unknown keywords arguments will be dropped in future. Invalid arguments were: {'format': 'markdown'}\n",
            "2024-05-18 22:58:24.711 Invalid arguments were passed to \"st.write\" function. Support for passing such unknown keywords arguments will be dropped in future. Invalid arguments were: {'format': 'markdown'}\n",
            "2024-05-18 22:58:24.716 Invalid arguments were passed to \"st.write\" function. Support for passing such unknown keywords arguments will be dropped in future. Invalid arguments were: {'format': 'markdown'}\n",
            "/content/app.py:60: UserWarning: Parsing dates in %d/%m/%Y format when dayfirst=False (the default) was specified. Pass `dayfirst=True` or specify a format to silence this warning.\n",
            "  df['data'] = pd.to_datetime(df['data']).dt.date\n",
            "2024-05-18 23:01:15.402 Invalid arguments were passed to \"st.write\" function. Support for passing such unknown keywords arguments will be dropped in future. Invalid arguments were: {'format': 'markdown'}\n",
            "2024-05-18 23:01:15.404 Invalid arguments were passed to \"st.write\" function. Support for passing such unknown keywords arguments will be dropped in future. Invalid arguments were: {'format': 'markdown'}\n",
            "2024-05-18 23:01:15.404 Invalid arguments were passed to \"st.write\" function. Support for passing such unknown keywords arguments will be dropped in future. Invalid arguments were: {'format': 'markdown'}\n",
            "2024-05-18 23:01:15.405 Invalid arguments were passed to \"st.write\" function. Support for passing such unknown keywords arguments will be dropped in future. Invalid arguments were: {'format': 'markdown'}\n",
            "2024-05-18 23:01:15.406 Invalid arguments were passed to \"st.write\" function. Support for passing such unknown keywords arguments will be dropped in future. Invalid arguments were: {'format': 'markdown'}\n",
            "2024-05-18 23:01:15.406 Invalid arguments were passed to \"st.write\" function. Support for passing such unknown keywords arguments will be dropped in future. Invalid arguments were: {'format': 'markdown'}\n",
            "2024-05-18 23:01:15.407 Invalid arguments were passed to \"st.write\" function. Support for passing such unknown keywords arguments will be dropped in future. Invalid arguments were: {'format': 'markdown'}\n",
            "2024-05-18 23:01:15.410 Invalid arguments were passed to \"st.write\" function. Support for passing such unknown keywords arguments will be dropped in future. Invalid arguments were: {'format': 'markdown'}\n",
            "/content/app.py:60: UserWarning: Parsing dates in %d/%m/%Y format when dayfirst=False (the default) was specified. Pass `dayfirst=True` or specify a format to silence this warning.\n",
            "  df['data'] = pd.to_datetime(df['data']).dt.date\n",
            "2024-05-18 23:02:17.514 Invalid arguments were passed to \"st.write\" function. Support for passing such unknown keywords arguments will be dropped in future. Invalid arguments were: {'format': 'markdown'}\n",
            "2024-05-18 23:02:17.516 Invalid arguments were passed to \"st.write\" function. Support for passing such unknown keywords arguments will be dropped in future. Invalid arguments were: {'format': 'markdown'}\n",
            "2024-05-18 23:02:17.517 Invalid arguments were passed to \"st.write\" function. Support for passing such unknown keywords arguments will be dropped in future. Invalid arguments were: {'format': 'markdown'}\n",
            "2024-05-18 23:02:17.517 Invalid arguments were passed to \"st.write\" function. Support for passing such unknown keywords arguments will be dropped in future. Invalid arguments were: {'format': 'markdown'}\n",
            "2024-05-18 23:02:17.518 Invalid arguments were passed to \"st.write\" function. Support for passing such unknown keywords arguments will be dropped in future. Invalid arguments were: {'format': 'markdown'}\n",
            "2024-05-18 23:02:17.518 Invalid arguments were passed to \"st.write\" function. Support for passing such unknown keywords arguments will be dropped in future. Invalid arguments were: {'format': 'markdown'}\n",
            "2024-05-18 23:02:17.519 Invalid arguments were passed to \"st.write\" function. Support for passing such unknown keywords arguments will be dropped in future. Invalid arguments were: {'format': 'markdown'}\n",
            "2024-05-18 23:02:17.523 Invalid arguments were passed to \"st.write\" function. Support for passing such unknown keywords arguments will be dropped in future. Invalid arguments were: {'format': 'markdown'}\n",
            "/content/app.py:60: UserWarning: Parsing dates in %d/%m/%Y format when dayfirst=False (the default) was specified. Pass `dayfirst=True` or specify a format to silence this warning.\n",
            "  df['data'] = pd.to_datetime(df['data']).dt.date\n",
            "2024-05-18 23:13:41.349 Invalid arguments were passed to \"st.write\" function. Support for passing such unknown keywords arguments will be dropped in future. Invalid arguments were: {'format': 'markdown'}\n",
            "2024-05-18 23:13:41.349 Invalid arguments were passed to \"st.write\" function. Support for passing such unknown keywords arguments will be dropped in future. Invalid arguments were: {'format': 'markdown'}\n",
            "2024-05-18 23:13:41.351 Invalid arguments were passed to \"st.write\" function. Support for passing such unknown keywords arguments will be dropped in future. Invalid arguments were: {'format': 'markdown'}\n",
            "2024-05-18 23:13:41.351 Invalid arguments were passed to \"st.write\" function. Support for passing such unknown keywords arguments will be dropped in future. Invalid arguments were: {'format': 'markdown'}\n",
            "2024-05-18 23:13:41.352 Invalid arguments were passed to \"st.write\" function. Support for passing such unknown keywords arguments will be dropped in future. Invalid arguments were: {'format': 'markdown'}\n",
            "2024-05-18 23:13:41.353 Invalid arguments were passed to \"st.write\" function. Support for passing such unknown keywords arguments will be dropped in future. Invalid arguments were: {'format': 'markdown'}\n",
            "2024-05-18 23:13:41.353 Invalid arguments were passed to \"st.write\" function. Support for passing such unknown keywords arguments will be dropped in future. Invalid arguments were: {'format': 'markdown'}\n",
            "2024-05-18 23:13:41.356 Invalid arguments were passed to \"st.write\" function. Support for passing such unknown keywords arguments will be dropped in future. Invalid arguments were: {'format': 'markdown'}\n",
            "/content/app.py:60: UserWarning: Parsing dates in %d/%m/%Y format when dayfirst=False (the default) was specified. Pass `dayfirst=True` or specify a format to silence this warning.\n",
            "  df['data'] = pd.to_datetime(df['data']).dt.date\n",
            "2024-05-18 23:13:52.342 Invalid arguments were passed to \"st.write\" function. Support for passing such unknown keywords arguments will be dropped in future. Invalid arguments were: {'format': 'markdown'}\n",
            "2024-05-18 23:13:52.344 Invalid arguments were passed to \"st.write\" function. Support for passing such unknown keywords arguments will be dropped in future. Invalid arguments were: {'format': 'markdown'}\n",
            "2024-05-18 23:13:52.344 Invalid arguments were passed to \"st.write\" function. Support for passing such unknown keywords arguments will be dropped in future. Invalid arguments were: {'format': 'markdown'}\n",
            "2024-05-18 23:13:52.345 Invalid arguments were passed to \"st.write\" function. Support for passing such unknown keywords arguments will be dropped in future. Invalid arguments were: {'format': 'markdown'}\n",
            "2024-05-18 23:13:52.346 Invalid arguments were passed to \"st.write\" function. Support for passing such unknown keywords arguments will be dropped in future. Invalid arguments were: {'format': 'markdown'}\n",
            "2024-05-18 23:13:52.347 Invalid arguments were passed to \"st.write\" function. Support for passing such unknown keywords arguments will be dropped in future. Invalid arguments were: {'format': 'markdown'}\n",
            "2024-05-18 23:13:52.347 Invalid arguments were passed to \"st.write\" function. Support for passing such unknown keywords arguments will be dropped in future. Invalid arguments were: {'format': 'markdown'}\n",
            "2024-05-18 23:13:52.351 Invalid arguments were passed to \"st.write\" function. Support for passing such unknown keywords arguments will be dropped in future. Invalid arguments were: {'format': 'markdown'}\n",
            "/content/app.py:59: UserWarning: Parsing dates in %d/%m/%Y format when dayfirst=False (the default) was specified. Pass `dayfirst=True` or specify a format to silence this warning.\n",
            "  df['preco'] = df['preco'].astype(float)\n",
            "2024-05-18 23:17:39.922 Invalid arguments were passed to \"st.write\" function. Support for passing such unknown keywords arguments will be dropped in future. Invalid arguments were: {'format': 'markdown'}\n",
            "2024-05-18 23:17:39.923 Invalid arguments were passed to \"st.write\" function. Support for passing such unknown keywords arguments will be dropped in future. Invalid arguments were: {'format': 'markdown'}\n",
            "2024-05-18 23:17:39.925 Invalid arguments were passed to \"st.write\" function. Support for passing such unknown keywords arguments will be dropped in future. Invalid arguments were: {'format': 'markdown'}\n",
            "2024-05-18 23:17:39.925 Invalid arguments were passed to \"st.write\" function. Support for passing such unknown keywords arguments will be dropped in future. Invalid arguments were: {'format': 'markdown'}\n",
            "2024-05-18 23:17:39.926 Invalid arguments were passed to \"st.write\" function. Support for passing such unknown keywords arguments will be dropped in future. Invalid arguments were: {'format': 'markdown'}\n",
            "2024-05-18 23:17:39.927 Invalid arguments were passed to \"st.write\" function. Support for passing such unknown keywords arguments will be dropped in future. Invalid arguments were: {'format': 'markdown'}\n",
            "2024-05-18 23:17:39.927 Invalid arguments were passed to \"st.write\" function. Support for passing such unknown keywords arguments will be dropped in future. Invalid arguments were: {'format': 'markdown'}\n",
            "2024-05-18 23:17:39.931 Invalid arguments were passed to \"st.write\" function. Support for passing such unknown keywords arguments will be dropped in future. Invalid arguments were: {'format': 'markdown'}\n",
            "/content/app.py:59: UserWarning: Parsing dates in %d/%m/%Y format when dayfirst=False (the default) was specified. Pass `dayfirst=True` or specify a format to silence this warning.\n",
            "  df['preco'] = df['preco'].astype(float)\n",
            "2024-05-18 23:19:42.178 Invalid arguments were passed to \"st.write\" function. Support for passing such unknown keywords arguments will be dropped in future. Invalid arguments were: {'format': 'markdown'}\n",
            "2024-05-18 23:19:42.179 Invalid arguments were passed to \"st.write\" function. Support for passing such unknown keywords arguments will be dropped in future. Invalid arguments were: {'format': 'markdown'}\n",
            "2024-05-18 23:19:42.179 Invalid arguments were passed to \"st.write\" function. Support for passing such unknown keywords arguments will be dropped in future. Invalid arguments were: {'format': 'markdown'}\n",
            "2024-05-18 23:19:42.180 Invalid arguments were passed to \"st.write\" function. Support for passing such unknown keywords arguments will be dropped in future. Invalid arguments were: {'format': 'markdown'}\n",
            "2024-05-18 23:19:42.181 Invalid arguments were passed to \"st.write\" function. Support for passing such unknown keywords arguments will be dropped in future. Invalid arguments were: {'format': 'markdown'}\n",
            "2024-05-18 23:19:42.181 Invalid arguments were passed to \"st.write\" function. Support for passing such unknown keywords arguments will be dropped in future. Invalid arguments were: {'format': 'markdown'}\n",
            "2024-05-18 23:19:42.182 Invalid arguments were passed to \"st.write\" function. Support for passing such unknown keywords arguments will be dropped in future. Invalid arguments were: {'format': 'markdown'}\n",
            "2024-05-18 23:19:42.185 Invalid arguments were passed to \"st.write\" function. Support for passing such unknown keywords arguments will be dropped in future. Invalid arguments were: {'format': 'markdown'}\n",
            "/content/app.py:59: UserWarning: Parsing dates in %d/%m/%Y format when dayfirst=False (the default) was specified. Pass `dayfirst=True` or specify a format to silence this warning.\n",
            "  df['preco'] = df['preco'].astype(float)\n",
            "2024-05-18 23:34:01.923 Invalid arguments were passed to \"st.write\" function. Support for passing such unknown keywords arguments will be dropped in future. Invalid arguments were: {'format': 'markdown'}\n",
            "2024-05-18 23:34:01.924 Invalid arguments were passed to \"st.write\" function. Support for passing such unknown keywords arguments will be dropped in future. Invalid arguments were: {'format': 'markdown'}\n",
            "2024-05-18 23:34:01.925 Invalid arguments were passed to \"st.write\" function. Support for passing such unknown keywords arguments will be dropped in future. Invalid arguments were: {'format': 'markdown'}\n",
            "2024-05-18 23:34:01.926 Invalid arguments were passed to \"st.write\" function. Support for passing such unknown keywords arguments will be dropped in future. Invalid arguments were: {'format': 'markdown'}\n",
            "2024-05-18 23:34:01.926 Invalid arguments were passed to \"st.write\" function. Support for passing such unknown keywords arguments will be dropped in future. Invalid arguments were: {'format': 'markdown'}\n",
            "2024-05-18 23:34:01.927 Invalid arguments were passed to \"st.write\" function. Support for passing such unknown keywords arguments will be dropped in future. Invalid arguments were: {'format': 'markdown'}\n",
            "2024-05-18 23:34:01.930 Invalid arguments were passed to \"st.write\" function. Support for passing such unknown keywords arguments will be dropped in future. Invalid arguments were: {'format': 'markdown'}\n",
            "/content/app.py:59: UserWarning: Parsing dates in %d/%m/%Y format when dayfirst=False (the default) was specified. Pass `dayfirst=True` or specify a format to silence this warning.\n",
            "  df['preco'] = df['preco'].astype(float)\n",
            "2024-05-18 23:35:29.217 Invalid arguments were passed to \"st.write\" function. Support for passing such unknown keywords arguments will be dropped in future. Invalid arguments were: {'format': 'markdown'}\n",
            "2024-05-18 23:35:29.219 Invalid arguments were passed to \"st.write\" function. Support for passing such unknown keywords arguments will be dropped in future. Invalid arguments were: {'format': 'markdown'}\n",
            "2024-05-18 23:35:29.220 Invalid arguments were passed to \"st.write\" function. Support for passing such unknown keywords arguments will be dropped in future. Invalid arguments were: {'format': 'markdown'}\n",
            "2024-05-18 23:35:29.221 Invalid arguments were passed to \"st.write\" function. Support for passing such unknown keywords arguments will be dropped in future. Invalid arguments were: {'format': 'markdown'}\n",
            "2024-05-18 23:35:29.223 Invalid arguments were passed to \"st.write\" function. Support for passing such unknown keywords arguments will be dropped in future. Invalid arguments were: {'format': 'markdown'}\n",
            "2024-05-18 23:35:29.227 Invalid arguments were passed to \"st.write\" function. Support for passing such unknown keywords arguments will be dropped in future. Invalid arguments were: {'format': 'markdown'}\n",
            "2024-05-18 23:35:29.233 Invalid arguments were passed to \"st.write\" function. Support for passing such unknown keywords arguments will be dropped in future. Invalid arguments were: {'format': 'markdown'}\n",
            "/content/app.py:59: UserWarning: Parsing dates in %d/%m/%Y format when dayfirst=False (the default) was specified. Pass `dayfirst=True` or specify a format to silence this warning.\n",
            "  df['preco'] = df['preco'].astype(float)\n",
            "2024-05-18 23:36:37.160 Invalid arguments were passed to \"st.write\" function. Support for passing such unknown keywords arguments will be dropped in future. Invalid arguments were: {'format': 'markdown'}\n",
            "2024-05-18 23:36:37.161 Invalid arguments were passed to \"st.write\" function. Support for passing such unknown keywords arguments will be dropped in future. Invalid arguments were: {'format': 'markdown'}\n",
            "2024-05-18 23:36:37.162 Invalid arguments were passed to \"st.write\" function. Support for passing such unknown keywords arguments will be dropped in future. Invalid arguments were: {'format': 'markdown'}\n",
            "2024-05-18 23:36:37.163 Invalid arguments were passed to \"st.write\" function. Support for passing such unknown keywords arguments will be dropped in future. Invalid arguments were: {'format': 'markdown'}\n",
            "2024-05-18 23:36:37.163 Invalid arguments were passed to \"st.write\" function. Support for passing such unknown keywords arguments will be dropped in future. Invalid arguments were: {'format': 'markdown'}\n",
            "2024-05-18 23:36:37.164 Invalid arguments were passed to \"st.write\" function. Support for passing such unknown keywords arguments will be dropped in future. Invalid arguments were: {'format': 'markdown'}\n",
            "2024-05-18 23:36:37.167 Invalid arguments were passed to \"st.write\" function. Support for passing such unknown keywords arguments will be dropped in future. Invalid arguments were: {'format': 'markdown'}\n",
            "/content/app.py:59: UserWarning: Parsing dates in %d/%m/%Y format when dayfirst=False (the default) was specified. Pass `dayfirst=True` or specify a format to silence this warning.\n",
            "  df['preco'] = df['preco'].astype(float)\n",
            "2024-05-18 23:37:33.736 Invalid arguments were passed to \"st.write\" function. Support for passing such unknown keywords arguments will be dropped in future. Invalid arguments were: {'format': 'markdown'}\n",
            "2024-05-18 23:37:33.736 Invalid arguments were passed to \"st.write\" function. Support for passing such unknown keywords arguments will be dropped in future. Invalid arguments were: {'format': 'markdown'}\n",
            "2024-05-18 23:37:33.737 Invalid arguments were passed to \"st.write\" function. Support for passing such unknown keywords arguments will be dropped in future. Invalid arguments were: {'format': 'markdown'}\n",
            "2024-05-18 23:37:33.738 Invalid arguments were passed to \"st.write\" function. Support for passing such unknown keywords arguments will be dropped in future. Invalid arguments were: {'format': 'markdown'}\n",
            "2024-05-18 23:37:33.738 Invalid arguments were passed to \"st.write\" function. Support for passing such unknown keywords arguments will be dropped in future. Invalid arguments were: {'format': 'markdown'}\n",
            "2024-05-18 23:37:33.739 Invalid arguments were passed to \"st.write\" function. Support for passing such unknown keywords arguments will be dropped in future. Invalid arguments were: {'format': 'markdown'}\n",
            "2024-05-18 23:37:33.742 Invalid arguments were passed to \"st.write\" function. Support for passing such unknown keywords arguments will be dropped in future. Invalid arguments were: {'format': 'markdown'}\n",
            "/content/app.py:59: UserWarning: Parsing dates in %d/%m/%Y format when dayfirst=False (the default) was specified. Pass `dayfirst=True` or specify a format to silence this warning.\n",
            "  df['preco'] = df['preco'].astype(float)\n",
            "2024-05-18 23:38:25.732 Invalid arguments were passed to \"st.write\" function. Support for passing such unknown keywords arguments will be dropped in future. Invalid arguments were: {'format': 'markdown'}\n",
            "2024-05-18 23:38:25.733 Invalid arguments were passed to \"st.write\" function. Support for passing such unknown keywords arguments will be dropped in future. Invalid arguments were: {'format': 'markdown'}\n",
            "2024-05-18 23:38:25.734 Invalid arguments were passed to \"st.write\" function. Support for passing such unknown keywords arguments will be dropped in future. Invalid arguments were: {'format': 'markdown'}\n",
            "2024-05-18 23:38:25.735 Invalid arguments were passed to \"st.write\" function. Support for passing such unknown keywords arguments will be dropped in future. Invalid arguments were: {'format': 'markdown'}\n",
            "2024-05-18 23:38:25.735 Invalid arguments were passed to \"st.write\" function. Support for passing such unknown keywords arguments will be dropped in future. Invalid arguments were: {'format': 'markdown'}\n",
            "2024-05-18 23:38:25.736 Invalid arguments were passed to \"st.write\" function. Support for passing such unknown keywords arguments will be dropped in future. Invalid arguments were: {'format': 'markdown'}\n",
            "2024-05-18 23:38:25.739 Invalid arguments were passed to \"st.write\" function. Support for passing such unknown keywords arguments will be dropped in future. Invalid arguments were: {'format': 'markdown'}\n",
            "/content/app.py:59: UserWarning: Parsing dates in %d/%m/%Y format when dayfirst=False (the default) was specified. Pass `dayfirst=True` or specify a format to silence this warning.\n",
            "  df['preco'] = df['preco'].astype(float)\n",
            "2024-05-18 23:44:02.084 Invalid arguments were passed to \"st.write\" function. Support for passing such unknown keywords arguments will be dropped in future. Invalid arguments were: {'format': 'markdown'}\n",
            "2024-05-18 23:44:02.085 Invalid arguments were passed to \"st.write\" function. Support for passing such unknown keywords arguments will be dropped in future. Invalid arguments were: {'format': 'markdown'}\n",
            "2024-05-18 23:44:02.086 Invalid arguments were passed to \"st.write\" function. Support for passing such unknown keywords arguments will be dropped in future. Invalid arguments were: {'format': 'markdown'}\n",
            "2024-05-18 23:44:02.086 Invalid arguments were passed to \"st.write\" function. Support for passing such unknown keywords arguments will be dropped in future. Invalid arguments were: {'format': 'markdown'}\n",
            "2024-05-18 23:44:02.087 Invalid arguments were passed to \"st.write\" function. Support for passing such unknown keywords arguments will be dropped in future. Invalid arguments were: {'format': 'markdown'}\n",
            "2024-05-18 23:44:02.088 Invalid arguments were passed to \"st.write\" function. Support for passing such unknown keywords arguments will be dropped in future. Invalid arguments were: {'format': 'markdown'}\n",
            "2024-05-18 23:44:02.091 Invalid arguments were passed to \"st.write\" function. Support for passing such unknown keywords arguments will be dropped in future. Invalid arguments were: {'format': 'markdown'}\n"
          ]
        }
      ]
    }
  ]
}